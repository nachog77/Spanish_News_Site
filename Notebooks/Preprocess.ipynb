{
 "cells": [
  {
   "cell_type": "markdown",
   "metadata": {},
   "source": [
    "# Spanish News Article's origin site determination\n",
    "## Data Preparation\n",
    "Spanish articles are obtained from (https://webhose.io/free-datasets/spanish-news-articles/) to obtain csv files (https://s3.console.aws.amazon.com/s3/buckets/sbd-projects/RocketHall/customersegmentation/SpanishNews/?region=us-east-2&tab=overview)\n",
    "The article are in JSON format, this notebook combines them in a csv files for training and evaluation"
   ]
  },
  {
   "cell_type": "code",
   "execution_count": 1,
   "metadata": {},
   "outputs": [],
   "source": [
    "import glob\n",
    "import json\n",
    "import tqdm \n",
    "import pandas as pd\n",
    "from sklearn.model_selection import train_test_split"
   ]
  },
  {
   "cell_type": "code",
   "execution_count": 2,
   "metadata": {},
   "outputs": [],
   "source": [
    "#Introduce path to directory with JSON files\n",
    "list_json=glob.glob(\"PATH_TO_JSON/*\")"
   ]
  },
  {
   "cell_type": "code",
   "execution_count": 3,
   "metadata": {},
   "outputs": [],
   "source": [
    "#Write JSON info in an array\n",
    "rows=[]\n",
    "for j in tqdm.tqdm_notebook(list_json):\n",
    "    with open(j) as json_file:\n",
    "        data = json.load(json_file)\n",
    "    row=[data['thread']['country'],data['thread']['domain_rank'],data['thread']['site'],data['thread']['site_type'],data['author'],data['text']]\n",
    "    rows.append(row)"
   ]
  },
  {
   "cell_type": "code",
   "execution_count": 5,
   "metadata": {},
   "outputs": [],
   "source": [
    "#Convert array to dataframe\n",
    "df = pd.DataFrame(rows, columns=['pais','domain','site','tipo','autor','texto'])"
   ]
  },
  {
   "cell_type": "code",
   "execution_count": 4,
   "metadata": {},
   "outputs": [],
   "source": [
    "len(rows)"
   ]
  },
  {
   "cell_type": "code",
   "execution_count": 7,
   "metadata": {},
   "outputs": [],
   "source": [
    "#save dataframe\n",
    "#Introduce path to save data\n",
    "df.to_csv(\"OUTPUT_PATH/articles.csv\")"
   ]
  },
  {
   "cell_type": "code",
   "execution_count": 9,
   "metadata": {},
   "outputs": [],
   "source": [
    "#Use this if previous dataframe has been already created\n",
    "#df=pd.read_csv(\"OUTPUT_PATH/articles.csv\" , index_col=0)"
   ]
  },
  {
   "cell_type": "code",
   "execution_count": 10,
   "metadata": {},
   "outputs": [
    {
     "data": {
      "text/plain": [
       "ES    139622\n",
       "US    110548\n",
       "AR     21878\n",
       "MX     15529\n",
       "IE     14937\n",
       "PE     14289\n",
       "EU      5091\n",
       "CL      3626\n",
       "RU      2483\n",
       "NI      2441\n",
       "GB      1697\n",
       "AT      1497\n",
       "FR      1227\n",
       "CN      1008\n",
       "SV       685\n",
       "MN       353\n",
       "NL       208\n",
       "IS       177\n",
       "IT       146\n",
       "TV       121\n",
       "DE       109\n",
       "VE       102\n",
       "CH        93\n",
       "ID        73\n",
       "CO        64\n",
       "IN        54\n",
       "PR        51\n",
       "BR        44\n",
       "PT        11\n",
       "LU        11\n",
       "CR        10\n",
       "PL         8\n",
       "JP         6\n",
       "SK         5\n",
       "TH         5\n",
       "TR         4\n",
       "CA         4\n",
       "BA         4\n",
       "NO         3\n",
       "ME         2\n",
       "IO         2\n",
       "KR         2\n",
       "RS         2\n",
       "EG         1\n",
       "AU         1\n",
       "RO         1\n",
       "ZA         1\n",
       "AE         1\n",
       "BE         1\n",
       "SG         1\n",
       "Name: pais, dtype: int64"
      ]
     },
     "execution_count": 10,
     "metadata": {},
     "output_type": "execute_result"
    }
   ],
   "source": [
    "df.pais.value_counts()"
   ]
  },
  {
   "cell_type": "markdown",
   "metadata": {},
   "source": [
    "## Creates version with sites over 5000 articles"
   ]
  },
  {
   "cell_type": "code",
   "execution_count": 12,
   "metadata": {},
   "outputs": [],
   "source": [
    "sites=df.site.value_counts()"
   ]
  },
  {
   "cell_type": "code",
   "execution_count": 13,
   "metadata": {},
   "outputs": [],
   "source": [
    "big_sites=list(sites.where(sites>5000).dropna().index)"
   ]
  },
  {
   "cell_type": "code",
   "execution_count": 14,
   "metadata": {},
   "outputs": [],
   "source": [
    "df_sites=df[df.site.isin(big_sites)]"
   ]
  },
  {
   "cell_type": "code",
   "execution_count": 15,
   "metadata": {},
   "outputs": [],
   "source": [
    "#Split in train and test sets\n",
    "df_sites_train, df_sites_test= train_test_split(df_sites, random_state=1977, test_size=0.2, stratify=df_sites.site)"
   ]
  },
  {
   "cell_type": "code",
   "execution_count": 20,
   "metadata": {},
   "outputs": [],
   "source": [
    "#Save files with articles with more than 5000 articles\n",
    "#Introduce path to save data\n",
    "df_sites.to_csv(\"OUTPUT_PATH/articles_sites.csv\")\n",
    "df_sites_train.to_csv(\"OUTPUT_PATH/articles_sites_train.csv\")\n",
    "df_sites_test.to_csv(\"OUTPUT_PATH/articles_sites_test.csv\")"
   ]
  },
  {
   "cell_type": "code",
   "execution_count": null,
   "metadata": {},
   "outputs": [],
   "source": []
  }
 ],
 "metadata": {
  "kernelspec": {
   "display_name": "Python (python3)",
   "language": "python",
   "name": "python3"
  },
  "language_info": {
   "codemirror_mode": {
    "name": "ipython",
    "version": 3
   },
   "file_extension": ".py",
   "mimetype": "text/x-python",
   "name": "python",
   "nbconvert_exporter": "python",
   "pygments_lexer": "ipython3",
   "version": "3.6.8"
  }
 },
 "nbformat": 4,
 "nbformat_minor": 2
}
